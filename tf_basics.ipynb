{
 "cells": [
  {
   "cell_type": "markdown",
   "metadata": {},
   "source": [
    "# Tensorflow Regression"
   ]
  },
  {
   "cell_type": "code",
   "execution_count": 1,
   "metadata": {},
   "outputs": [
    {
     "name": "stdout",
     "output_type": "stream",
     "text": [
      "2.3.0\n"
     ]
    }
   ],
   "source": [
    "import pandas as pd\n",
    "import numpy as np\n",
    "from sklearn.datasets import fetch_california_housing\n",
    "import tensorflow as tf\n",
    "print(tf.__version__)"
   ]
  },
  {
   "cell_type": "code",
   "execution_count": null,
   "metadata": {},
   "outputs": [],
   "source": []
  },
  {
   "cell_type": "code",
   "execution_count": 2,
   "metadata": {},
   "outputs": [],
   "source": [
    "X,y = fetch_california_housing(return_X_y=True)"
   ]
  },
  {
   "cell_type": "code",
   "execution_count": 3,
   "metadata": {},
   "outputs": [
    {
     "data": {
      "text/plain": [
       "(20640, 8)"
      ]
     },
     "execution_count": 3,
     "metadata": {},
     "output_type": "execute_result"
    }
   ],
   "source": [
    "X.shape"
   ]
  },
  {
   "cell_type": "code",
   "execution_count": 4,
   "metadata": {},
   "outputs": [
    {
     "data": {
      "text/plain": [
       "(20640,)"
      ]
     },
     "execution_count": 4,
     "metadata": {},
     "output_type": "execute_result"
    }
   ],
   "source": [
    "y.shape"
   ]
  },
  {
   "cell_type": "code",
   "execution_count": 5,
   "metadata": {},
   "outputs": [
    {
     "data": {
      "text/plain": [
       "(array([[   8.3252    ,   41.        ,    6.98412698, ...,    2.55555556,\n",
       "           37.88      , -122.23      ],\n",
       "        [   4.0368    ,   52.        ,    4.76165803, ...,    2.13989637,\n",
       "           37.85      , -122.25      ],\n",
       "        [   3.2031    ,   52.        ,    5.47761194, ...,    2.26368159,\n",
       "           37.85      , -122.26      ],\n",
       "        ...,\n",
       "        [   4.125     ,   37.        ,    7.28571429, ...,    2.07142857,\n",
       "           39.12      , -121.52      ],\n",
       "        [   3.5673    ,   11.        ,    5.93258427, ...,    2.8247191 ,\n",
       "           39.29      , -121.32      ],\n",
       "        [   1.5603    ,   25.        ,    5.04545455, ...,    2.56060606,\n",
       "           39.48      , -121.09      ]]),\n",
       " array([4.526, 3.585, 3.521, 3.413, 3.422]))"
      ]
     },
     "execution_count": 5,
     "metadata": {},
     "output_type": "execute_result"
    }
   ],
   "source": [
    "X[::5],y[:5]"
   ]
  },
  {
   "cell_type": "code",
   "execution_count": 5,
   "metadata": {},
   "outputs": [],
   "source": [
    "X_y = np.hstack((X,np.reshape(y,(len(y),1))))"
   ]
  },
  {
   "cell_type": "code",
   "execution_count": 6,
   "metadata": {},
   "outputs": [
    {
     "data": {
      "text/plain": [
       "array([[   8.3252    ,   41.        ,    6.98412698, ...,    2.55555556,\n",
       "          37.88      , -122.23      ],\n",
       "       [   8.3014    ,   21.        ,    6.23813708, ...,    2.10984183,\n",
       "          37.86      , -122.22      ],\n",
       "       [   7.2574    ,   52.        ,    8.28813559, ...,    2.80225989,\n",
       "          37.85      , -122.24      ],\n",
       "       ...,\n",
       "       [   1.7       ,   17.        ,    5.20554273, ...,    2.3256351 ,\n",
       "          39.43      , -121.22      ],\n",
       "       [   1.8672    ,   18.        ,    5.32951289, ...,    2.12320917,\n",
       "          39.43      , -121.32      ],\n",
       "       [   2.3886    ,   16.        ,    5.25471698, ...,    2.61698113,\n",
       "          39.37      , -121.24      ]])"
      ]
     },
     "execution_count": 6,
     "metadata": {},
     "output_type": "execute_result"
    }
   ],
   "source": [
    "X_y[:,:-1]"
   ]
  },
  {
   "cell_type": "code",
   "execution_count": 7,
   "metadata": {},
   "outputs": [],
   "source": [
    "def create_tf_train_test(X,y,test_prop=0.3,shuffle=False):\n",
    "    X_y = np.hstack((X,np.reshape(y,(len(y),1))))\n",
    "    if shuffle:\n",
    "        X_y = np.random.shuffle(X_y)\n",
    "    \n",
    "    train_len = int(X_y.shape[0]*(1-test_prop))\n",
    "    \n",
    "    X_y_train,X_y_test = X_y[:train_len,:],X_y[train_len:,:]\n",
    "    X_tr,X_test,y_tr,y_test = X_y_train[:,:-1],X_y_test[:,:-1],X_y_train[:,-1],X_y_test[:,-1]\n",
    "    print(X_tr.shape,X_test.shape,y_tr.shape,y_test.shape)\n",
    "    Xtrain,ytrain = tf.convert_to_tensor(X_tr),tf.convert_to_tensor(y_tr)\n",
    "    Xtest,ytest = tf.convert_to_tensor(X_test),tf.convert_to_tensor(y_test)\n",
    "    return Xtrain,Xtest,ytrain,ytest\n",
    "        "
   ]
  },
  {
   "cell_type": "code",
   "execution_count": 8,
   "metadata": {},
   "outputs": [
    {
     "name": "stdout",
     "output_type": "stream",
     "text": [
      "(14447, 8) (6193, 8) (14447,) (6193,)\n"
     ]
    }
   ],
   "source": [
    "Xtrain,Xtest,ytrain,ytest = create_tf_train_test(X,y)"
   ]
  },
  {
   "cell_type": "code",
   "execution_count": 9,
   "metadata": {},
   "outputs": [
    {
     "data": {
      "text/plain": [
       "(TensorShape([14447, 8]), TensorShape([14447]))"
      ]
     },
     "execution_count": 9,
     "metadata": {},
     "output_type": "execute_result"
    }
   ],
   "source": [
    "Xtrain.shape,ytrain.shape"
   ]
  },
  {
   "cell_type": "code",
   "execution_count": 10,
   "metadata": {},
   "outputs": [],
   "source": [
    "tf.random.set_seed(1993)"
   ]
  },
  {
   "cell_type": "code",
   "execution_count": 11,
   "metadata": {},
   "outputs": [
    {
     "data": {
      "text/plain": [
       "(8, 1, 200, 400)"
      ]
     },
     "execution_count": 11,
     "metadata": {},
     "output_type": "execute_result"
    }
   ],
   "source": [
    "IN = Xtrain.shape[1]\n",
    "OUT = 1\n",
    "EPOCHS = 200\n",
    "BATCHES = 400\n",
    "IN,OUT,EPOCHS,BATCHES"
   ]
  },
  {
   "cell_type": "code",
   "execution_count": 12,
   "metadata": {},
   "outputs": [],
   "source": [
    "model = tf.keras.Sequential([\n",
    "    tf.keras.Input(shape = (IN,)),\n",
    "    tf.keras.layers.Dense(units=10,activation = 'relu'),\n",
    "    tf.keras.layers.Dense(units=10,activation = 'relu'),   \n",
    "    tf.keras.layers.Dense(1,activation = 'relu')\n",
    "])"
   ]
  },
  {
   "cell_type": "code",
   "execution_count": 13,
   "metadata": {},
   "outputs": [
    {
     "data": {
      "text/plain": [
       "(None, 8)"
      ]
     },
     "execution_count": 13,
     "metadata": {},
     "output_type": "execute_result"
    }
   ],
   "source": [
    "model.layers[0].input_shape"
   ]
  },
  {
   "cell_type": "code",
   "execution_count": 14,
   "metadata": {},
   "outputs": [],
   "source": [
    "model.compile(loss = tf.keras.losses.mae,optimizer = tf.keras.optimizers.Adam(learning_rate=0.0001),metrics = ['mae'])"
   ]
  },
  {
   "cell_type": "code",
   "execution_count": 15,
   "metadata": {},
   "outputs": [
    {
     "name": "stdout",
     "output_type": "stream",
     "text": [
      "Epoch 1/200\n",
      "452/452 [==============================] - 0s 740us/step - loss: 57.9622 - mae: 57.9622\n",
      "Epoch 2/200\n",
      "452/452 [==============================] - 0s 812us/step - loss: 1.9963 - mae: 1.9963\n",
      "Epoch 3/200\n",
      "452/452 [==============================] - 0s 713us/step - loss: 1.9799 - mae: 1.9799\n",
      "Epoch 4/200\n",
      "452/452 [==============================] - 0s 769us/step - loss: 1.9734 - mae: 1.9734\n",
      "Epoch 5/200\n",
      "452/452 [==============================] - 0s 782us/step - loss: 1.9704 - mae: 1.9704\n",
      "Epoch 6/200\n",
      "452/452 [==============================] - 0s 794us/step - loss: 1.9672 - mae: 1.9672\n",
      "Epoch 7/200\n",
      "452/452 [==============================] - 0s 776us/step - loss: 1.9636 - mae: 1.9636\n",
      "Epoch 8/200\n",
      "452/452 [==============================] - 0s 723us/step - loss: 1.9624 - mae: 1.9624\n",
      "Epoch 9/200\n",
      "452/452 [==============================] - 0s 778us/step - loss: 1.9593 - mae: 1.9593\n",
      "Epoch 10/200\n",
      "452/452 [==============================] - 0s 677us/step - loss: 1.9528 - mae: 1.9528\n",
      "Epoch 11/200\n",
      "452/452 [==============================] - 0s 746us/step - loss: 1.9475 - mae: 1.9475\n",
      "Epoch 12/200\n",
      "452/452 [==============================] - 0s 737us/step - loss: 1.9458 - mae: 1.9458\n",
      "Epoch 13/200\n",
      "452/452 [==============================] - 0s 765us/step - loss: 1.9348 - mae: 1.9348\n",
      "Epoch 14/200\n",
      "452/452 [==============================] - 0s 790us/step - loss: 1.9238 - mae: 1.9238\n",
      "Epoch 15/200\n",
      "452/452 [==============================] - 0s 738us/step - loss: 1.9214 - mae: 1.9214\n",
      "Epoch 16/200\n",
      "452/452 [==============================] - 0s 783us/step - loss: 1.9031 - mae: 1.9031\n",
      "Epoch 17/200\n",
      "452/452 [==============================] - 0s 673us/step - loss: 1.8821 - mae: 1.8821\n",
      "Epoch 18/200\n",
      "452/452 [==============================] - 0s 752us/step - loss: 1.8851 - mae: 1.8851\n",
      "Epoch 19/200\n",
      "452/452 [==============================] - 0s 715us/step - loss: 1.8559 - mae: 1.8559\n",
      "Epoch 20/200\n",
      "452/452 [==============================] - 0s 757us/step - loss: 1.8369 - mae: 1.8369\n",
      "Epoch 21/200\n",
      "452/452 [==============================] - 0s 663us/step - loss: 1.8321 - mae: 1.8321\n",
      "Epoch 22/200\n",
      "452/452 [==============================] - 0s 742us/step - loss: 1.7673 - mae: 1.7673\n",
      "Epoch 23/200\n",
      "452/452 [==============================] - 0s 761us/step - loss: 1.7195 - mae: 1.7195\n",
      "Epoch 24/200\n",
      "452/452 [==============================] - 0s 712us/step - loss: 1.6143 - mae: 1.6143\n",
      "Epoch 25/200\n",
      "452/452 [==============================] - 0s 708us/step - loss: 1.4774 - mae: 1.4774\n",
      "Epoch 26/200\n",
      "452/452 [==============================] - 0s 636us/step - loss: 1.2688 - mae: 1.2688\n",
      "Epoch 27/200\n",
      "452/452 [==============================] - 0s 689us/step - loss: 1.0462 - mae: 1.0462\n",
      "Epoch 28/200\n",
      "452/452 [==============================] - 0s 643us/step - loss: 0.9445 - mae: 0.9445\n",
      "Epoch 29/200\n",
      "452/452 [==============================] - 0s 648us/step - loss: 0.8742 - mae: 0.8742\n",
      "Epoch 30/200\n",
      "452/452 [==============================] - 0s 727us/step - loss: 0.8063 - mae: 0.8063\n",
      "Epoch 31/200\n",
      "452/452 [==============================] - 0s 657us/step - loss: 0.7722 - mae: 0.7722\n",
      "Epoch 32/200\n",
      "452/452 [==============================] - 0s 634us/step - loss: 0.7594 - mae: 0.7594\n",
      "Epoch 33/200\n",
      "452/452 [==============================] - 0s 907us/step - loss: 0.7341 - mae: 0.7341\n",
      "Epoch 34/200\n",
      "452/452 [==============================] - 0s 1ms/step - loss: 0.7225 - mae: 0.7225\n",
      "Epoch 35/200\n",
      "452/452 [==============================] - 0s 923us/step - loss: 0.7127 - mae: 0.7127\n",
      "Epoch 36/200\n",
      "452/452 [==============================] - 0s 876us/step - loss: 0.6964 - mae: 0.6964\n",
      "Epoch 37/200\n",
      "452/452 [==============================] - 0s 777us/step - loss: 0.7005 - mae: 0.7005\n",
      "Epoch 38/200\n",
      "452/452 [==============================] - 0s 764us/step - loss: 0.6823 - mae: 0.6823\n",
      "Epoch 39/200\n",
      "452/452 [==============================] - 0s 750us/step - loss: 0.6717 - mae: 0.6717\n",
      "Epoch 40/200\n",
      "452/452 [==============================] - 0s 730us/step - loss: 0.6727 - mae: 0.6727\n",
      "Epoch 41/200\n",
      "452/452 [==============================] - 0s 940us/step - loss: 0.6545 - mae: 0.6545\n",
      "Epoch 42/200\n",
      "452/452 [==============================] - 0s 998us/step - loss: 0.6538 - mae: 0.6538\n",
      "Epoch 43/200\n",
      "452/452 [==============================] - 0s 810us/step - loss: 0.6409 - mae: 0.6409\n",
      "Epoch 44/200\n",
      "452/452 [==============================] - 0s 793us/step - loss: 0.6433 - mae: 0.6433\n",
      "Epoch 45/200\n",
      "452/452 [==============================] - 0s 718us/step - loss: 0.6376 - mae: 0.6376\n",
      "Epoch 46/200\n",
      "452/452 [==============================] - 0s 728us/step - loss: 0.6267 - mae: 0.6267\n",
      "Epoch 47/200\n",
      "452/452 [==============================] - 0s 737us/step - loss: 0.6254 - mae: 0.6254\n",
      "Epoch 48/200\n",
      "452/452 [==============================] - 0s 766us/step - loss: 0.6221 - mae: 0.6221\n",
      "Epoch 49/200\n",
      "452/452 [==============================] - 0s 746us/step - loss: 0.6159 - mae: 0.6159\n",
      "Epoch 50/200\n",
      "452/452 [==============================] - 0s 743us/step - loss: 0.6123 - mae: 0.6123\n",
      "Epoch 51/200\n",
      "452/452 [==============================] - 0s 721us/step - loss: 0.6116 - mae: 0.6116\n",
      "Epoch 52/200\n",
      "452/452 [==============================] - 0s 801us/step - loss: 0.6041 - mae: 0.6041\n",
      "Epoch 53/200\n",
      "452/452 [==============================] - 0s 757us/step - loss: 0.5968 - mae: 0.5968\n",
      "Epoch 54/200\n",
      "452/452 [==============================] - 0s 742us/step - loss: 0.5947 - mae: 0.5947\n",
      "Epoch 55/200\n",
      "452/452 [==============================] - 0s 737us/step - loss: 0.5881 - mae: 0.5881\n",
      "Epoch 56/200\n",
      "452/452 [==============================] - 0s 726us/step - loss: 0.5913 - mae: 0.5913\n",
      "Epoch 57/200\n",
      "452/452 [==============================] - 0s 721us/step - loss: 0.5877 - mae: 0.5877\n",
      "Epoch 58/200\n",
      "452/452 [==============================] - 0s 745us/step - loss: 0.5869 - mae: 0.5869\n",
      "Epoch 59/200\n",
      "452/452 [==============================] - 0s 722us/step - loss: 0.5763 - mae: 0.5763\n",
      "Epoch 60/200\n",
      "452/452 [==============================] - 0s 741us/step - loss: 0.5758 - mae: 0.5758\n",
      "Epoch 61/200\n",
      "452/452 [==============================] - 0s 688us/step - loss: 0.5743 - mae: 0.5743\n",
      "Epoch 62/200\n",
      "452/452 [==============================] - 0s 740us/step - loss: 0.5736 - mae: 0.5736\n",
      "Epoch 63/200\n",
      "452/452 [==============================] - 0s 726us/step - loss: 0.5727 - mae: 0.5727\n",
      "Epoch 64/200\n",
      "452/452 [==============================] - 0s 690us/step - loss: 0.5715 - mae: 0.5715\n",
      "Epoch 65/200\n",
      "452/452 [==============================] - 0s 706us/step - loss: 0.5783 - mae: 0.5783\n",
      "Epoch 66/200\n",
      "452/452 [==============================] - 0s 705us/step - loss: 0.5629 - mae: 0.5629\n",
      "Epoch 67/200\n",
      "452/452 [==============================] - 0s 713us/step - loss: 0.5626 - mae: 0.5626\n",
      "Epoch 68/200\n",
      "452/452 [==============================] - 0s 715us/step - loss: 0.5666 - mae: 0.5666\n",
      "Epoch 69/200\n",
      "452/452 [==============================] - 0s 766us/step - loss: 0.5709 - mae: 0.5709\n",
      "Epoch 70/200\n",
      "452/452 [==============================] - 0s 731us/step - loss: 0.5604 - mae: 0.5604\n",
      "Epoch 71/200\n",
      "452/452 [==============================] - 0s 718us/step - loss: 0.5596 - mae: 0.5596\n",
      "Epoch 72/200\n",
      "452/452 [==============================] - 0s 734us/step - loss: 0.5639 - mae: 0.5639\n",
      "Epoch 73/200\n",
      "452/452 [==============================] - 0s 725us/step - loss: 0.5586 - mae: 0.5586\n",
      "Epoch 74/200\n",
      "452/452 [==============================] - 0s 840us/step - loss: 0.5573 - mae: 0.5573\n",
      "Epoch 75/200\n",
      "452/452 [==============================] - 0s 820us/step - loss: 0.5536 - mae: 0.5536\n",
      "Epoch 76/200\n",
      "452/452 [==============================] - 0s 697us/step - loss: 0.5771 - mae: 0.5771\n",
      "Epoch 77/200\n",
      "452/452 [==============================] - 0s 710us/step - loss: 0.5544 - mae: 0.5544\n",
      "Epoch 78/200\n",
      "452/452 [==============================] - 0s 708us/step - loss: 0.5565 - mae: 0.5565\n",
      "Epoch 79/200\n",
      "452/452 [==============================] - 0s 708us/step - loss: 0.5533 - mae: 0.5533\n",
      "Epoch 80/200\n",
      "452/452 [==============================] - 0s 717us/step - loss: 0.5651 - mae: 0.5651\n",
      "Epoch 81/200\n",
      "452/452 [==============================] - 0s 712us/step - loss: 0.5571 - mae: 0.5571\n",
      "Epoch 82/200\n",
      "452/452 [==============================] - 0s 777us/step - loss: 0.5583 - mae: 0.5583\n",
      "Epoch 83/200\n",
      "452/452 [==============================] - 0s 826us/step - loss: 0.5509 - mae: 0.5509\n",
      "Epoch 84/200\n",
      "452/452 [==============================] - 0s 715us/step - loss: 0.5467 - mae: 0.5467\n",
      "Epoch 85/200\n",
      "452/452 [==============================] - 0s 704us/step - loss: 0.5548 - mae: 0.5548\n",
      "Epoch 86/200\n",
      "452/452 [==============================] - 0s 728us/step - loss: 0.5465 - mae: 0.5465\n",
      "Epoch 87/200\n",
      "452/452 [==============================] - 0s 730us/step - loss: 0.5475 - mae: 0.5475\n",
      "Epoch 88/200\n",
      "452/452 [==============================] - 0s 753us/step - loss: 0.5443 - mae: 0.5443\n",
      "Epoch 89/200\n",
      "452/452 [==============================] - 0s 704us/step - loss: 0.5556 - mae: 0.5556\n",
      "Epoch 90/200\n",
      "452/452 [==============================] - 0s 699us/step - loss: 0.5452 - mae: 0.5452\n",
      "Epoch 91/200\n",
      "452/452 [==============================] - 0s 726us/step - loss: 0.5502 - mae: 0.5502\n",
      "Epoch 92/200\n",
      "452/452 [==============================] - 0s 720us/step - loss: 0.5486 - mae: 0.5486\n",
      "Epoch 93/200\n",
      "452/452 [==============================] - 0s 798us/step - loss: 0.5502 - mae: 0.5502\n",
      "Epoch 94/200\n",
      "452/452 [==============================] - 0s 710us/step - loss: 0.5407 - mae: 0.5407\n",
      "Epoch 95/200\n",
      "452/452 [==============================] - 0s 733us/step - loss: 0.5407 - mae: 0.5407\n",
      "Epoch 96/200\n",
      "452/452 [==============================] - 0s 712us/step - loss: 0.5453 - mae: 0.5453\n",
      "Epoch 97/200\n",
      "452/452 [==============================] - 0s 749us/step - loss: 0.5364 - mae: 0.5364\n",
      "Epoch 98/200\n",
      "452/452 [==============================] - 0s 719us/step - loss: 0.5415 - mae: 0.5415\n",
      "Epoch 99/200\n",
      "452/452 [==============================] - 0s 705us/step - loss: 0.5494 - mae: 0.5494\n",
      "Epoch 100/200\n",
      "452/452 [==============================] - 0s 714us/step - loss: 0.5470 - mae: 0.5470\n",
      "Epoch 101/200\n",
      "452/452 [==============================] - 0s 712us/step - loss: 0.5352 - mae: 0.5352\n",
      "Epoch 102/200\n",
      "452/452 [==============================] - 0s 715us/step - loss: 0.5429 - mae: 0.5429\n",
      "Epoch 103/200\n",
      "452/452 [==============================] - 0s 758us/step - loss: 0.5525 - mae: 0.5525\n",
      "Epoch 104/200\n",
      "452/452 [==============================] - 0s 820us/step - loss: 0.5620 - mae: 0.5620\n",
      "Epoch 105/200\n",
      "452/452 [==============================] - 0s 765us/step - loss: 0.5396 - mae: 0.5396\n",
      "Epoch 106/200\n",
      "452/452 [==============================] - 0s 673us/step - loss: 0.5438 - mae: 0.5438\n",
      "Epoch 107/200\n",
      "452/452 [==============================] - 0s 728us/step - loss: 0.5427 - mae: 0.5427\n",
      "Epoch 108/200\n",
      "452/452 [==============================] - 0s 715us/step - loss: 0.5346 - mae: 0.5346\n",
      "Epoch 109/200\n",
      "452/452 [==============================] - 0s 679us/step - loss: 0.5435 - mae: 0.5435\n",
      "Epoch 110/200\n",
      "452/452 [==============================] - 0s 720us/step - loss: 0.5392 - mae: 0.5392\n",
      "Epoch 111/200\n",
      "452/452 [==============================] - 0s 703us/step - loss: 0.5422 - mae: 0.5422\n",
      "Epoch 112/200\n",
      "452/452 [==============================] - 0s 765us/step - loss: 0.5371 - mae: 0.5371\n",
      "Epoch 113/200\n",
      "452/452 [==============================] - 0s 701us/step - loss: 0.5425 - mae: 0.5425\n",
      "Epoch 114/200\n",
      "452/452 [==============================] - 0s 802us/step - loss: 0.5438 - mae: 0.5438\n",
      "Epoch 115/200\n",
      "452/452 [==============================] - 0s 704us/step - loss: 0.5363 - mae: 0.5363\n",
      "Epoch 116/200\n",
      "452/452 [==============================] - 0s 704us/step - loss: 0.5356 - mae: 0.5356\n",
      "Epoch 117/200\n",
      "452/452 [==============================] - 0s 726us/step - loss: 0.5340 - mae: 0.5340\n",
      "Epoch 118/200\n",
      "452/452 [==============================] - 0s 761us/step - loss: 0.5349 - mae: 0.5349\n",
      "Epoch 119/200\n",
      "452/452 [==============================] - 0s 662us/step - loss: 0.5354 - mae: 0.5354\n",
      "Epoch 120/200\n",
      "452/452 [==============================] - 0s 675us/step - loss: 0.5368 - mae: 0.5368\n",
      "Epoch 121/200\n",
      "452/452 [==============================] - 0s 707us/step - loss: 0.5467 - mae: 0.5467\n",
      "Epoch 122/200\n",
      "452/452 [==============================] - 0s 721us/step - loss: 0.5300 - mae: 0.5300\n",
      "Epoch 123/200\n",
      "452/452 [==============================] - 0s 717us/step - loss: 0.5372 - mae: 0.5372\n",
      "Epoch 124/200\n",
      "452/452 [==============================] - 0s 888us/step - loss: 0.5436 - mae: 0.5436\n",
      "Epoch 125/200\n",
      "452/452 [==============================] - 0s 779us/step - loss: 0.5412 - mae: 0.5412\n",
      "Epoch 126/200\n",
      "452/452 [==============================] - 0s 715us/step - loss: 0.5435 - mae: 0.5435\n",
      "Epoch 127/200\n",
      "452/452 [==============================] - 0s 984us/step - loss: 0.5288 - mae: 0.5288\n",
      "Epoch 128/200\n",
      "452/452 [==============================] - 0s 629us/step - loss: 0.5309 - mae: 0.5309\n",
      "Epoch 129/200\n",
      "452/452 [==============================] - 0s 628us/step - loss: 0.5387 - mae: 0.5387\n",
      "Epoch 130/200\n",
      "452/452 [==============================] - 0s 626us/step - loss: 0.5422 - mae: 0.5422\n",
      "Epoch 131/200\n",
      "452/452 [==============================] - 0s 942us/step - loss: 0.5347 - mae: 0.5347\n",
      "Epoch 132/200\n",
      "452/452 [==============================] - 0s 724us/step - loss: 0.5311 - mae: 0.5311\n",
      "Epoch 133/200\n",
      "452/452 [==============================] - 0s 796us/step - loss: 0.5389 - mae: 0.5389\n",
      "Epoch 134/200\n",
      "452/452 [==============================] - 0s 924us/step - loss: 0.5348 - mae: 0.5348\n",
      "Epoch 135/200\n",
      "452/452 [==============================] - 0s 1ms/step - loss: 0.5273 - mae: 0.5273\n",
      "Epoch 136/200\n",
      "452/452 [==============================] - 0s 882us/step - loss: 0.5327 - mae: 0.5327\n",
      "Epoch 137/200\n",
      "452/452 [==============================] - 0s 686us/step - loss: 0.5439 - mae: 0.5439\n",
      "Epoch 138/200\n",
      "452/452 [==============================] - 0s 719us/step - loss: 0.5352 - mae: 0.5352\n",
      "Epoch 139/200\n",
      "452/452 [==============================] - 0s 730us/step - loss: 0.5326 - mae: 0.5326\n",
      "Epoch 140/200\n",
      "452/452 [==============================] - 0s 756us/step - loss: 0.5350 - mae: 0.5350\n",
      "Epoch 141/200\n",
      "452/452 [==============================] - 0s 717us/step - loss: 0.5377 - mae: 0.5377\n",
      "Epoch 142/200\n",
      "452/452 [==============================] - 0s 748us/step - loss: 0.5279 - mae: 0.5279\n",
      "Epoch 143/200\n",
      "452/452 [==============================] - 0s 812us/step - loss: 0.5286 - mae: 0.5286\n",
      "Epoch 144/200\n",
      "452/452 [==============================] - 0s 682us/step - loss: 0.5324 - mae: 0.5324\n",
      "Epoch 145/200\n",
      "452/452 [==============================] - 0s 726us/step - loss: 0.5309 - mae: 0.5309\n",
      "Epoch 146/200\n",
      "452/452 [==============================] - 0s 710us/step - loss: 0.5288 - mae: 0.5288\n",
      "Epoch 147/200\n",
      "452/452 [==============================] - 0s 725us/step - loss: 0.5313 - mae: 0.5313\n",
      "Epoch 148/200\n",
      "452/452 [==============================] - 0s 779us/step - loss: 0.5393 - mae: 0.5393\n",
      "Epoch 149/200\n",
      "452/452 [==============================] - 0s 698us/step - loss: 0.5330 - mae: 0.5330\n",
      "Epoch 150/200\n",
      "452/452 [==============================] - 0s 712us/step - loss: 0.5462 - mae: 0.5462\n",
      "Epoch 151/200\n",
      "452/452 [==============================] - 0s 723us/step - loss: 0.5369 - mae: 0.5369\n",
      "Epoch 152/200\n",
      "452/452 [==============================] - 0s 716us/step - loss: 0.5265 - mae: 0.5265\n",
      "Epoch 153/200\n",
      "452/452 [==============================] - 0s 710us/step - loss: 0.5341 - mae: 0.5341\n",
      "Epoch 154/200\n",
      "452/452 [==============================] - 0s 766us/step - loss: 0.5297 - mae: 0.5297\n",
      "Epoch 155/200\n",
      "452/452 [==============================] - 0s 847us/step - loss: 0.5394 - mae: 0.5394\n",
      "Epoch 156/200\n",
      "452/452 [==============================] - 0s 709us/step - loss: 0.5239 - mae: 0.5239\n",
      "Epoch 157/200\n",
      "452/452 [==============================] - 0s 692us/step - loss: 0.5303 - mae: 0.5303\n",
      "Epoch 158/200\n",
      "452/452 [==============================] - 0s 712us/step - loss: 0.5278 - mae: 0.5278\n",
      "Epoch 159/200\n",
      "452/452 [==============================] - 0s 705us/step - loss: 0.5306 - mae: 0.5306\n",
      "Epoch 160/200\n",
      "452/452 [==============================] - 0s 710us/step - loss: 0.5278 - mae: 0.5278\n",
      "Epoch 161/200\n",
      "452/452 [==============================] - 0s 757us/step - loss: 0.5268 - mae: 0.5268\n",
      "Epoch 162/200\n",
      "452/452 [==============================] - 0s 709us/step - loss: 0.5267 - mae: 0.5267\n",
      "Epoch 163/200\n",
      "452/452 [==============================] - 0s 696us/step - loss: 0.5243 - mae: 0.5243\n",
      "Epoch 164/200\n",
      "452/452 [==============================] - 0s 811us/step - loss: 0.5215 - mae: 0.5215\n",
      "Epoch 165/200\n",
      "452/452 [==============================] - 0s 792us/step - loss: 0.5278 - mae: 0.5278\n",
      "Epoch 166/200\n",
      "452/452 [==============================] - 0s 708us/step - loss: 0.5300 - mae: 0.5300\n",
      "Epoch 167/200\n",
      "452/452 [==============================] - 0s 690us/step - loss: 0.5229 - mae: 0.5229\n",
      "Epoch 168/200\n",
      "452/452 [==============================] - 0s 750us/step - loss: 0.5278 - mae: 0.5278\n",
      "Epoch 169/200\n",
      "452/452 [==============================] - 0s 695us/step - loss: 0.5277 - mae: 0.5277\n",
      "Epoch 170/200\n",
      "452/452 [==============================] - 0s 710us/step - loss: 0.5294 - mae: 0.5294\n",
      "Epoch 171/200\n",
      "452/452 [==============================] - 0s 715us/step - loss: 0.5196 - mae: 0.5196\n",
      "Epoch 172/200\n",
      "452/452 [==============================] - 0s 717us/step - loss: 0.5262 - mae: 0.5262\n",
      "Epoch 173/200\n",
      "452/452 [==============================] - 0s 757us/step - loss: 0.5296 - mae: 0.5296\n",
      "Epoch 174/200\n",
      "452/452 [==============================] - 0s 810us/step - loss: 0.5206 - mae: 0.5206\n",
      "Epoch 175/200\n",
      "452/452 [==============================] - 0s 803us/step - loss: 0.5289 - mae: 0.5289\n",
      "Epoch 176/200\n",
      "452/452 [==============================] - 0s 784us/step - loss: 0.5255 - mae: 0.5255\n",
      "Epoch 177/200\n",
      "452/452 [==============================] - 0s 724us/step - loss: 0.5247 - mae: 0.5247\n",
      "Epoch 178/200\n",
      "452/452 [==============================] - 0s 710us/step - loss: 0.5294 - mae: 0.5294\n",
      "Epoch 179/200\n",
      "452/452 [==============================] - 0s 707us/step - loss: 0.5264 - mae: 0.5264\n",
      "Epoch 180/200\n",
      "452/452 [==============================] - 0s 768us/step - loss: 0.5229 - mae: 0.5229\n",
      "Epoch 181/200\n",
      "452/452 [==============================] - 0s 692us/step - loss: 0.5233 - mae: 0.5233\n",
      "Epoch 182/200\n",
      "452/452 [==============================] - 0s 712us/step - loss: 0.5205 - mae: 0.5205\n",
      "Epoch 183/200\n",
      "452/452 [==============================] - 0s 700us/step - loss: 0.5247 - mae: 0.5247\n",
      "Epoch 184/200\n",
      "452/452 [==============================] - 0s 720us/step - loss: 0.5249 - mae: 0.5249\n",
      "Epoch 185/200\n",
      "452/452 [==============================] - 0s 812us/step - loss: 0.5231 - mae: 0.5231\n",
      "Epoch 186/200\n",
      "452/452 [==============================] - 0s 677us/step - loss: 0.5243 - mae: 0.5243\n",
      "Epoch 187/200\n",
      "452/452 [==============================] - 0s 769us/step - loss: 0.5205 - mae: 0.5205\n",
      "Epoch 188/200\n",
      "452/452 [==============================] - 0s 701us/step - loss: 0.5278 - mae: 0.5278\n",
      "Epoch 189/200\n",
      "452/452 [==============================] - 0s 709us/step - loss: 0.5260 - mae: 0.5260\n",
      "Epoch 190/200\n",
      "452/452 [==============================] - 0s 701us/step - loss: 0.5264 - mae: 0.5264\n",
      "Epoch 191/200\n",
      "452/452 [==============================] - 0s 710us/step - loss: 0.5252 - mae: 0.5252\n",
      "Epoch 192/200\n",
      "452/452 [==============================] - 0s 719us/step - loss: 0.5309 - mae: 0.5309\n",
      "Epoch 193/200\n",
      "452/452 [==============================] - 0s 712us/step - loss: 0.5243 - mae: 0.5243\n",
      "Epoch 194/200\n",
      "452/452 [==============================] - 0s 782us/step - loss: 0.5134 - mae: 0.5134\n",
      "Epoch 195/200\n",
      "452/452 [==============================] - 0s 772us/step - loss: 0.5382 - mae: 0.5382\n",
      "Epoch 196/200\n",
      "452/452 [==============================] - 0s 750us/step - loss: 0.5202 - mae: 0.5202\n",
      "Epoch 197/200\n",
      "452/452 [==============================] - 0s 681us/step - loss: 0.5175 - mae: 0.5175\n",
      "Epoch 198/200\n",
      "452/452 [==============================] - 0s 708us/step - loss: 0.5204 - mae: 0.5204\n",
      "Epoch 199/200\n",
      "452/452 [==============================] - 0s 706us/step - loss: 0.5202 - mae: 0.5202\n",
      "Epoch 200/200\n",
      "452/452 [==============================] - 0s 772us/step - loss: 0.5243 - mae: 0.5243\n"
     ]
    },
    {
     "data": {
      "text/plain": [
       "<tensorflow.python.keras.callbacks.History at 0x1e2eafe4fa0>"
      ]
     },
     "execution_count": 15,
     "metadata": {},
     "output_type": "execute_result"
    }
   ],
   "source": [
    "model.fit(Xtrain,ytrain,epochs=EPOCHS)"
   ]
  },
  {
   "cell_type": "code",
   "execution_count": null,
   "metadata": {},
   "outputs": [],
   "source": []
  },
  {
   "cell_type": "code",
   "execution_count": 16,
   "metadata": {},
   "outputs": [
    {
     "data": {
      "text/plain": [
       "array([[3.5776486 ],\n",
       "       [2.4078946 ],\n",
       "       [2.995192  ],\n",
       "       ...,\n",
       "       [0.67398894],\n",
       "       [0.7927748 ],\n",
       "       [0.9301611 ]], dtype=float32)"
      ]
     },
     "execution_count": 16,
     "metadata": {},
     "output_type": "execute_result"
    }
   ],
   "source": [
    "y_pred = model.predict(Xtest)\n",
    "y_pred"
   ]
  },
  {
   "cell_type": "code",
   "execution_count": 17,
   "metadata": {},
   "outputs": [
    {
     "data": {
      "text/plain": [
       "(<tf.Tensor: shape=(6193,), dtype=float64, numpy=array([5.00001, 4.5    , 3.324  , ..., 0.923  , 0.847  , 0.894  ])>,\n",
       " array([[3.5776486 ],\n",
       "        [2.4078946 ],\n",
       "        [2.995192  ],\n",
       "        ...,\n",
       "        [0.67398894],\n",
       "        [0.7927748 ],\n",
       "        [0.9301611 ]], dtype=float32),\n",
       " tensorflow.python.framework.ops.EagerTensor,\n",
       " numpy.ndarray,\n",
       " array([5.00001, 4.5    , 3.324  , ..., 0.923  , 0.847  , 0.894  ]),\n",
       " TensorShape([6193]),\n",
       " (6193, 1))"
      ]
     },
     "execution_count": 17,
     "metadata": {},
     "output_type": "execute_result"
    }
   ],
   "source": [
    "ytest,y_pred,type(ytest),type(y_pred),ytest.numpy(),ytest.shape,y_pred.shape"
   ]
  },
  {
   "cell_type": "code",
   "execution_count": 18,
   "metadata": {},
   "outputs": [
    {
     "data": {
      "text/plain": [
       "(6193,\n",
       " array([[5.00001],\n",
       "        [4.5    ],\n",
       "        [3.324  ],\n",
       "        ...,\n",
       "        [0.923  ],\n",
       "        [0.847  ],\n",
       "        [0.894  ]]))"
      ]
     },
     "execution_count": 18,
     "metadata": {},
     "output_type": "execute_result"
    }
   ],
   "source": [
    "ytest.shape[0],ytest.numpy().reshape((ytest.shape[0],1))"
   ]
  },
  {
   "cell_type": "code",
   "execution_count": 19,
   "metadata": {},
   "outputs": [
    {
     "data": {
      "text/plain": [
       "<tf.Variable 'UnreadVariable' shape=() dtype=float32, numpy=6193.0>"
      ]
     },
     "execution_count": 19,
     "metadata": {},
     "output_type": "execute_result"
    }
   ],
   "source": [
    "tf.keras.metrics.MeanAbsoluteError().update_state(ytest.numpy().reshape((ytest.shape[0],1)),y_pred)"
   ]
  },
  {
   "cell_type": "code",
   "execution_count": 20,
   "metadata": {},
   "outputs": [
    {
     "data": {
      "text/plain": [
       "(array([[5.00001],\n",
       "        [4.5    ],\n",
       "        [3.324  ],\n",
       "        ...,\n",
       "        [0.923  ],\n",
       "        [0.847  ],\n",
       "        [0.894  ]]),\n",
       " array([[3.5776486 ],\n",
       "        [2.4078946 ],\n",
       "        [2.995192  ],\n",
       "        ...,\n",
       "        [0.67398894],\n",
       "        [0.7927748 ],\n",
       "        [0.9301611 ]], dtype=float32))"
      ]
     },
     "execution_count": 20,
     "metadata": {},
     "output_type": "execute_result"
    }
   ],
   "source": [
    "ytest.numpy().reshape((ytest.shape[0],1)),y_pred"
   ]
  },
  {
   "cell_type": "code",
   "execution_count": 21,
   "metadata": {},
   "outputs": [
    {
     "data": {
      "text/plain": [
       "12388.848"
      ]
     },
     "execution_count": 21,
     "metadata": {},
     "output_type": "execute_result"
    }
   ],
   "source": [
    "y_pred.sum()"
   ]
  },
  {
   "cell_type": "code",
   "execution_count": 22,
   "metadata": {},
   "outputs": [
    {
     "data": {
      "text/plain": [
       "0.6131793933822529"
      ]
     },
     "execution_count": 22,
     "metadata": {},
     "output_type": "execute_result"
    }
   ],
   "source": [
    "from sklearn.metrics import mean_absolute_error\n",
    "mean_absolute_error(ytest.numpy().reshape((ytest.shape[0],1)),y_pred)"
   ]
  },
  {
   "cell_type": "code",
   "execution_count": 23,
   "metadata": {},
   "outputs": [
    {
     "data": {
      "text/plain": [
       "[<matplotlib.lines.Line2D at 0x1e2ed161a90>]"
      ]
     },
     "execution_count": 23,
     "metadata": {},
     "output_type": "execute_result"
    },
    {
     "data": {
      "image/png": "[encoded data removed]",
      "text/plain": [
       "<Figure size 1440x360 with 1 Axes>"
      ]
     },
     "metadata": {
      "needs_background": "light"
     },
     "output_type": "display_data"
    }
   ],
   "source": [
    "import matplotlib.pyplot as plt\n",
    "plt.figure(figsize = (20,5))\n",
    "#plt.scatter(x = range(ytest.shape[0]),y = ytest.numpy().reshape((ytest.shape[0],1)),color = 'green')\n",
    "#plt.scatter(x = range(ytest.shape[0]),y = y_pred,color = 'blue')\n",
    "plt.plot(ytest.numpy().reshape((ytest.shape[0],1)),color = 'green')\n",
    "plt.plot(y_pred,color = 'blue')"
   ]
  },
  {
   "cell_type": "code",
   "execution_count": 24,
   "metadata": {},
   "outputs": [
    {
     "name": "stdout",
     "output_type": "stream",
     "text": [
      "Model: \"sequential\"\n",
      "_________________________________________________________________\n",
      "Layer (type)                 Output Shape              Param #   \n",
      "=================================================================\n",
      "dense (Dense)                (None, 10)                90        \n",
      "_________________________________________________________________\n",
      "dense_1 (Dense)              (None, 10)                110       \n",
      "_________________________________________________________________\n",
      "dense_2 (Dense)              (None, 1)                 11        \n",
      "=================================================================\n",
      "Total params: 211\n",
      "Trainable params: 211\n",
      "Non-trainable params: 0\n",
      "_________________________________________________________________\n"
     ]
    }
   ],
   "source": [
    "model.summary()"
   ]
  },
  {
   "cell_type": "code",
   "execution_count": 25,
   "metadata": {},
   "outputs": [
    {
     "data": {
      "text/plain": [
       "TensorShape([14447, 8])"
      ]
     },
     "execution_count": 25,
     "metadata": {},
     "output_type": "execute_result"
    }
   ],
   "source": [
    "Xtrain.shape"
   ]
  },
  {
   "cell_type": "code",
   "execution_count": 2,
   "metadata": {},
   "outputs": [
    {
     "name": "stdout",
     "output_type": "stream",
     "text": [
      "<class 'pandas.core.frame.DataFrame'>\n",
      "RangeIndex: 1106674 entries, 0 to 1106673\n",
      "Data columns (total 62 columns):\n",
      " #   Column                              Non-Null Count    Dtype  \n",
      "---  ------                              --------------    -----  \n",
      " 0   customer_id                         1106674 non-null  object \n",
      " 1   firstname                           1106674 non-null  object \n",
      " 2   lastname                            1106674 non-null  object \n",
      " 3   record_number                       1106674 non-null  int64  \n",
      " 4   days_since_opened                   1106674 non-null  int64  \n",
      " 5   days_since_confirmed                1106674 non-null  int64  \n",
      " 6   primary_term                        1106674 non-null  int64  \n",
      " 7   final_term                          1106674 non-null  int64  \n",
      " 8   days_till_primary_close             1106674 non-null  int64  \n",
      " 9   days_till_final_close               1106674 non-null  int64  \n",
      " 10  loans_credit_limit                  1106674 non-null  int64  \n",
      " 11  loans_next_payment_summary          1106674 non-null  int64  \n",
      " 12  loans_outstanding_balance           1106674 non-null  int64  \n",
      " 13  loans_max_overdue_amount            1106674 non-null  int64  \n",
      " 14  loans_credit_cost_rate              1106674 non-null  int64  \n",
      " 15  loans_within_5_days                 1106674 non-null  int64  \n",
      " 16  loans_within_5_to_30_days           1106674 non-null  int64  \n",
      " 17  loans_within_30_to_60_days          1106674 non-null  int64  \n",
      " 18  loans_within_60_to_90_days          1106674 non-null  int64  \n",
      " 19  loans_over_90_days                  1106674 non-null  int64  \n",
      " 20  is_zero_loans_within_5_days         1106674 non-null  object \n",
      " 21  is_zero_loans_within_5_to_30_days   1106674 non-null  object \n",
      " 22  is_zero_loans_within_30_to_60_days  1106674 non-null  object \n",
      " 23  is_zero_loans_within_60_to_90_days  1106674 non-null  object \n",
      " 24  is_zero_loans_over_90_days          1106674 non-null  object \n",
      " 25  utilization                         1106674 non-null  int64  \n",
      " 26  over_limit_count                    1106674 non-null  int64  \n",
      " 27  max_over_limit_count                1106674 non-null  int64  \n",
      " 28  is_zero_utilization                 1106674 non-null  object \n",
      " 29  is_zero_over_limit_count            1106674 non-null  object \n",
      " 30  is_zero_max_over_limit_count        1106674 non-null  object \n",
      " 31  encoded_payment_0                   1069055 non-null  float64\n",
      " 32  encoded_payment_1                   1070930 non-null  float64\n",
      " 33  encoded_payment_2                   1072062 non-null  float64\n",
      " 34  encoded_payment_3                   1069258 non-null  float64\n",
      " 35  encoded_payment_4                   1070834 non-null  float64\n",
      " 36  encoded_payment_5                   1071370 non-null  float64\n",
      " 37  encoded_payment_6                   1068655 non-null  float64\n",
      " 38  encoded_payment_7                   1071045 non-null  float64\n",
      " 39  encoded_payment_8                   1071912 non-null  float64\n",
      " 40  encoded_payment_9                   1070823 non-null  float64\n",
      " 41  encoded_payment_10                  1071039 non-null  float64\n",
      " 42  encoded_payment_11                  1071475 non-null  float64\n",
      " 43  encoded_payment_12                  1068866 non-null  float64\n",
      " 44  encoded_payment_13                  1071323 non-null  float64\n",
      " 45  encoded_payment_14                  1069215 non-null  float64\n",
      " 46  encoded_payment_15                  1070000 non-null  float64\n",
      " 47  encoded_payment_16                  1071962 non-null  float64\n",
      " 48  encoded_payment_17                  1069359 non-null  float64\n",
      " 49  encoded_payment_18                  1071406 non-null  float64\n",
      " 50  encoded_payment_19                  1070293 non-null  float64\n",
      " 51  encoded_payment_20                  1069155 non-null  float64\n",
      " 52  encoded_payment_21                  1069126 non-null  float64\n",
      " 53  encoded_payment_22                  1069519 non-null  float64\n",
      " 54  encoded_payment_23                  1070131 non-null  float64\n",
      " 55  encoded_payment_24                  1070629 non-null  float64\n",
      " 56  encoded_loans_account_holder_type   1106674 non-null  int64  \n",
      " 57  encoded_loans_credit_status         1106674 non-null  int64  \n",
      " 58  encoded_loans_credit_type           1106674 non-null  int64  \n",
      " 59  encoded_loans_account_currency      1106674 non-null  int64  \n",
      " 60  primary_close_flag                  1106674 non-null  int64  \n",
      " 61  final_close_flag                    1106674 non-null  int64  \n",
      "dtypes: float64(25), int64(26), object(11)\n",
      "memory usage: 523.5+ MB\n"
     ]
    }
   ],
   "source": [
    "import pandas as pd\n",
    "train = pd.read_csv('train.csv')\n",
    "train.info()"
   ]
  },
  {
   "cell_type": "code",
   "execution_count": 3,
   "metadata": {},
   "outputs": [],
   "source": [
    "train.to_parquet('train.parquet')"
   ]
  },
  {
   "cell_type": "code",
   "execution_count": null,
   "metadata": {},
   "outputs": [],
   "source": []
  },
  {
   "cell_type": "code",
   "execution_count": null,
   "metadata": {},
   "outputs": [],
   "source": []
  },
  {
   "cell_type": "code",
   "execution_count": null,
   "metadata": {},
   "outputs": [],
   "source": []
  },
  {
   "cell_type": "code",
   "execution_count": null,
   "metadata": {},
   "outputs": [],
   "source": []
  },
  {
   "cell_type": "code",
   "execution_count": null,
   "metadata": {},
   "outputs": [],
   "source": []
  },
  {
   "cell_type": "code",
   "execution_count": null,
   "metadata": {},
   "outputs": [],
   "source": []
  },
  {
   "cell_type": "code",
   "execution_count": null,
   "metadata": {},
   "outputs": [],
   "source": []
  },
  {
   "cell_type": "code",
   "execution_count": null,
   "metadata": {},
   "outputs": [],
   "source": []
  },
  {
   "cell_type": "code",
   "execution_count": null,
   "metadata": {},
   "outputs": [],
   "source": []
  },
  {
   "cell_type": "code",
   "execution_count": null,
   "metadata": {},
   "outputs": [],
   "source": []
  },
  {
   "cell_type": "code",
   "execution_count": null,
   "metadata": {},
   "outputs": [],
   "source": []
  },
  {
   "cell_type": "code",
   "execution_count": null,
   "metadata": {},
   "outputs": [],
   "source": []
  },
  {
   "cell_type": "code",
   "execution_count": null,
   "metadata": {},
   "outputs": [],
   "source": []
  },
  {
   "cell_type": "code",
   "execution_count": null,
   "metadata": {},
   "outputs": [],
   "source": []
  },
  {
   "cell_type": "code",
   "execution_count": null,
   "metadata": {},
   "outputs": [],
   "source": []
  },
  {
   "cell_type": "code",
   "execution_count": null,
   "metadata": {},
   "outputs": [],
   "source": []
  },
  {
   "cell_type": "code",
   "execution_count": null,
   "metadata": {},
   "outputs": [],
   "source": []
  },
  {
   "cell_type": "code",
   "execution_count": null,
   "metadata": {},
   "outputs": [],
   "source": []
  },
  {
   "cell_type": "code",
   "execution_count": null,
   "metadata": {},
   "outputs": [],
   "source": []
  },
  {
   "cell_type": "code",
   "execution_count": null,
   "metadata": {},
   "outputs": [],
   "source": []
  },
  {
   "cell_type": "code",
   "execution_count": null,
   "metadata": {},
   "outputs": [],
   "source": []
  },
  {
   "cell_type": "code",
   "execution_count": null,
   "metadata": {},
   "outputs": [],
   "source": []
  },
  {
   "cell_type": "code",
   "execution_count": null,
   "metadata": {},
   "outputs": [],
   "source": []
  }
 ],
 "metadata": {
  "kernelspec": {
   "display_name": "base",
   "language": "python",
   "name": "python3"
  },
  "language_info": {
   "codemirror_mode": {
    "name": "ipython",
    "version": 3
   },
   "file_extension": ".py",
   "mimetype": "text/x-python",
   "name": "python",
   "nbconvert_exporter": "python",
   "pygments_lexer": "ipython3",
   "version": "3.8.3"
  },
  "orig_nbformat": 4
 },
 "nbformat": 4,
 "nbformat_minor": 2
}
